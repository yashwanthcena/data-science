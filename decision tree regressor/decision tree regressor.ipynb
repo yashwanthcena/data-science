{
  "nbformat": 4,
  "nbformat_minor": 0,
  "metadata": {
    "colab": {
      "name": "Untitled15.ipynb",
      "provenance": []
    },
    "kernelspec": {
      "name": "python3",
      "display_name": "Python 3"
    },
    "language_info": {
      "name": "python"
    }
  },
  "cells": [
    {
      "cell_type": "code",
      "metadata": {
        "id": "BDPn3cq_8ETa"
      },
      "source": [
        "import numpy as np\n",
        "import pandas as pd\n",
        "import matplotlib.pyplot as plt\n",
        "import seaborn as sns \n",
        "from sklearn.tree import DecisionTreeRegressor"
      ],
      "execution_count": 2,
      "outputs": []
    },
    {
      "cell_type": "code",
      "metadata": {
        "id": "Af_lELiq9OlO"
      },
      "source": [
        "df= pd.read_csv('IceCreamData.csv')"
      ],
      "execution_count": 3,
      "outputs": []
    },
    {
      "cell_type": "code",
      "metadata": {
        "colab": {
          "base_uri": "https://localhost:8080/",
          "height": 202
        },
        "id": "CLZId-ev9dZr",
        "outputId": "a39ffd99-dd8a-4db8-d96d-09ba87a00131"
      },
      "source": [
        "df.head()"
      ],
      "execution_count": 4,
      "outputs": [
        {
          "output_type": "execute_result",
          "data": {
            "text/html": [
              "<div>\n",
              "<style scoped>\n",
              "    .dataframe tbody tr th:only-of-type {\n",
              "        vertical-align: middle;\n",
              "    }\n",
              "\n",
              "    .dataframe tbody tr th {\n",
              "        vertical-align: top;\n",
              "    }\n",
              "\n",
              "    .dataframe thead th {\n",
              "        text-align: right;\n",
              "    }\n",
              "</style>\n",
              "<table border=\"1\" class=\"dataframe\">\n",
              "  <thead>\n",
              "    <tr style=\"text-align: right;\">\n",
              "      <th></th>\n",
              "      <th>Temperature</th>\n",
              "      <th>Revenue</th>\n",
              "    </tr>\n",
              "  </thead>\n",
              "  <tbody>\n",
              "    <tr>\n",
              "      <th>0</th>\n",
              "      <td>24.566884</td>\n",
              "      <td>534.799028</td>\n",
              "    </tr>\n",
              "    <tr>\n",
              "      <th>1</th>\n",
              "      <td>26.005191</td>\n",
              "      <td>625.190122</td>\n",
              "    </tr>\n",
              "    <tr>\n",
              "      <th>2</th>\n",
              "      <td>27.790554</td>\n",
              "      <td>660.632289</td>\n",
              "    </tr>\n",
              "    <tr>\n",
              "      <th>3</th>\n",
              "      <td>20.595335</td>\n",
              "      <td>487.706960</td>\n",
              "    </tr>\n",
              "    <tr>\n",
              "      <th>4</th>\n",
              "      <td>11.503498</td>\n",
              "      <td>316.240194</td>\n",
              "    </tr>\n",
              "  </tbody>\n",
              "</table>\n",
              "</div>"
            ],
            "text/plain": [
              "   Temperature     Revenue\n",
              "0    24.566884  534.799028\n",
              "1    26.005191  625.190122\n",
              "2    27.790554  660.632289\n",
              "3    20.595335  487.706960\n",
              "4    11.503498  316.240194"
            ]
          },
          "metadata": {},
          "execution_count": 4
        }
      ]
    },
    {
      "cell_type": "code",
      "metadata": {
        "colab": {
          "base_uri": "https://localhost:8080/",
          "height": 294
        },
        "id": "9SYU0bUxAjxg",
        "outputId": "baefc9bc-c8aa-4610-a914-12c24837e141"
      },
      "source": [
        "df.describe()"
      ],
      "execution_count": 5,
      "outputs": [
        {
          "output_type": "execute_result",
          "data": {
            "text/html": [
              "<div>\n",
              "<style scoped>\n",
              "    .dataframe tbody tr th:only-of-type {\n",
              "        vertical-align: middle;\n",
              "    }\n",
              "\n",
              "    .dataframe tbody tr th {\n",
              "        vertical-align: top;\n",
              "    }\n",
              "\n",
              "    .dataframe thead th {\n",
              "        text-align: right;\n",
              "    }\n",
              "</style>\n",
              "<table border=\"1\" class=\"dataframe\">\n",
              "  <thead>\n",
              "    <tr style=\"text-align: right;\">\n",
              "      <th></th>\n",
              "      <th>Temperature</th>\n",
              "      <th>Revenue</th>\n",
              "    </tr>\n",
              "  </thead>\n",
              "  <tbody>\n",
              "    <tr>\n",
              "      <th>count</th>\n",
              "      <td>500.000000</td>\n",
              "      <td>500.000000</td>\n",
              "    </tr>\n",
              "    <tr>\n",
              "      <th>mean</th>\n",
              "      <td>22.232225</td>\n",
              "      <td>521.570777</td>\n",
              "    </tr>\n",
              "    <tr>\n",
              "      <th>std</th>\n",
              "      <td>8.096388</td>\n",
              "      <td>175.404751</td>\n",
              "    </tr>\n",
              "    <tr>\n",
              "      <th>min</th>\n",
              "      <td>0.000000</td>\n",
              "      <td>10.000000</td>\n",
              "    </tr>\n",
              "    <tr>\n",
              "      <th>25%</th>\n",
              "      <td>17.122258</td>\n",
              "      <td>405.558681</td>\n",
              "    </tr>\n",
              "    <tr>\n",
              "      <th>50%</th>\n",
              "      <td>22.392791</td>\n",
              "      <td>529.368565</td>\n",
              "    </tr>\n",
              "    <tr>\n",
              "      <th>75%</th>\n",
              "      <td>27.740674</td>\n",
              "      <td>642.257922</td>\n",
              "    </tr>\n",
              "    <tr>\n",
              "      <th>max</th>\n",
              "      <td>45.000000</td>\n",
              "      <td>1000.000000</td>\n",
              "    </tr>\n",
              "  </tbody>\n",
              "</table>\n",
              "</div>"
            ],
            "text/plain": [
              "       Temperature      Revenue\n",
              "count   500.000000   500.000000\n",
              "mean     22.232225   521.570777\n",
              "std       8.096388   175.404751\n",
              "min       0.000000    10.000000\n",
              "25%      17.122258   405.558681\n",
              "50%      22.392791   529.368565\n",
              "75%      27.740674   642.257922\n",
              "max      45.000000  1000.000000"
            ]
          },
          "metadata": {},
          "execution_count": 5
        }
      ]
    },
    {
      "cell_type": "code",
      "metadata": {
        "colab": {
          "base_uri": "https://localhost:8080/"
        },
        "id": "eNj1qZr6A4wI",
        "outputId": "0e04c6be-5e41-4b6f-830a-a33ba3b50555"
      },
      "source": [
        "df.isnull().sum()"
      ],
      "execution_count": 6,
      "outputs": [
        {
          "output_type": "execute_result",
          "data": {
            "text/plain": [
              "Temperature    0\n",
              "Revenue        0\n",
              "dtype: int64"
            ]
          },
          "metadata": {},
          "execution_count": 6
        }
      ]
    },
    {
      "cell_type": "code",
      "metadata": {
        "colab": {
          "base_uri": "https://localhost:8080/",
          "height": 279
        },
        "id": "IMoyk2ahA9a-",
        "outputId": "30412d46-24d5-41c4-8e25-bbbfd015f644"
      },
      "source": [
        "plt.scatter(df.Temperature,df.Revenue)\n",
        "plt.xlabel('temperature')\n",
        "plt.ylabel('revenue')\n",
        "plt.show()"
      ],
      "execution_count": 8,
      "outputs": [
        {
          "output_type": "display_data",
          "data": {
            "image/png": "[encoded data removed]",
            "text/plain": [
              "<Figure size 432x288 with 1 Axes>"
            ]
          },
          "metadata": {
            "needs_background": "light"
          }
        }
      ]
    },
    {
      "cell_type": "code",
      "metadata": {
        "colab": {
          "base_uri": "https://localhost:8080/",
          "height": 286
        },
        "id": "1G8qW9LmBcS8",
        "outputId": "f663b57b-7750-4cb5-cd4e-40f0213a7f8f"
      },
      "source": [
        "sns.heatmap(df.corr(),annot=True,cmap='Greens')"
      ],
      "execution_count": 11,
      "outputs": [
        {
          "output_type": "execute_result",
          "data": {
            "text/plain": [
              "<matplotlib.axes._subplots.AxesSubplot at 0x7fafd70463d0>"
            ]
          },
          "metadata": {},
          "execution_count": 11
        },
        {
          "output_type": "display_data",
          "data": {
            "image/png": "[encoded data removed]",
            "text/plain": [
              "<Figure size 432x288 with 2 Axes>"
            ]
          },
          "metadata": {
            "needs_background": "light"
          }
        }
      ]
    },
    {
      "cell_type": "code",
      "metadata": {
        "id": "V2MCRLDBD1jd"
      },
      "source": [
        "x=np.array(df.Temperature.values)\n",
        "y=np.array(df.Revenue.values)"
      ],
      "execution_count": 14,
      "outputs": []
    },
    {
      "cell_type": "code",
      "metadata": {
        "id": "h6t-j6MzECBd"
      },
      "source": [
        "from sklearn.preprocessing import StandardScaler"
      ],
      "execution_count": 15,
      "outputs": []
    },
    {
      "cell_type": "code",
      "metadata": {
        "id": "IWW6dpF2EH7L"
      },
      "source": [
        "standscale=StandardScaler()"
      ],
      "execution_count": 16,
      "outputs": []
    },
    {
      "cell_type": "code",
      "metadata": {
        "id": "LZRULWocENeu"
      },
      "source": [
        "x=standscale.fit_transform(x.reshape(-1,1))\n",
        "y=standscale.fit_transform(y.reshape(-1,1))"
      ],
      "execution_count": 17,
      "outputs": []
    },
    {
      "cell_type": "code",
      "metadata": {
        "id": "x2agwK71Eu97"
      },
      "source": [
        "from sklearn.model_selection import train_test_split"
      ],
      "execution_count": 18,
      "outputs": []
    },
    {
      "cell_type": "code",
      "metadata": {
        "id": "mWLH1SR1E3jr"
      },
      "source": [
        "x_train,x_test,y_train,y_test=train_test_split(x,y,test_size=0.2)"
      ],
      "execution_count": 19,
      "outputs": []
    },
    {
      "cell_type": "code",
      "metadata": {
        "id": "b0CUzPQjFaGh"
      },
      "source": [
        "regressor =DecisionTreeRegressor()"
      ],
      "execution_count": 20,
      "outputs": []
    },
    {
      "cell_type": "code",
      "metadata": {
        "colab": {
          "base_uri": "https://localhost:8080/"
        },
        "id": "c4u7gKC0Fe0X",
        "outputId": "97044182-f249-4ac2-9d37-ec6faf75573f"
      },
      "source": [
        "regressor.fit(x_train,y_train)"
      ],
      "execution_count": 21,
      "outputs": [
        {
          "output_type": "execute_result",
          "data": {
            "text/plain": [
              "DecisionTreeRegressor(ccp_alpha=0.0, criterion='mse', max_depth=None,\n",
              "                      max_features=None, max_leaf_nodes=None,\n",
              "                      min_impurity_decrease=0.0, min_impurity_split=None,\n",
              "                      min_samples_leaf=1, min_samples_split=2,\n",
              "                      min_weight_fraction_leaf=0.0, presort='deprecated',\n",
              "                      random_state=None, splitter='best')"
            ]
          },
          "metadata": {},
          "execution_count": 21
        }
      ]
    },
    {
      "cell_type": "code",
      "metadata": {
        "id": "DyiPPBVMFolH"
      },
      "source": [
        "y_pred =regressor.predict(x_test)"
      ],
      "execution_count": 22,
      "outputs": []
    },
    {
      "cell_type": "code",
      "metadata": {
        "colab": {
          "base_uri": "https://localhost:8080/"
        },
        "id": "Wv4qWxHoFzCO",
        "outputId": "8ea9cc1f-964b-4b8d-822a-24828e64a9fd"
      },
      "source": [
        "y_pred"
      ],
      "execution_count": 23,
      "outputs": [
        {
          "output_type": "execute_result",
          "data": {
            "text/plain": [
              "array([-1.31169725,  0.59484282,  2.01706367,  2.55505763,  0.49062224,\n",
              "       -2.00499063, -1.74278724, -0.74106048,  0.71161729, -0.53849122,\n",
              "       -0.09032116, -0.66381831,  0.12137431,  1.10135306, -0.10549898,\n",
              "        2.01706367, -1.02557886, -1.59254752, -0.88639913,  1.91025477,\n",
              "        1.03534784, -1.17517016, -1.06795554, -0.62492861,  0.28456138,\n",
              "       -0.41716459,  0.63878163, -1.17517016, -0.7960818 ,  1.44013609,\n",
              "        0.90248217,  0.23814803,  0.43037027, -0.08604173, -1.6702105 ,\n",
              "       -0.09032116,  1.91025477,  0.58225484,  1.35711728,  2.11062281,\n",
              "       -0.797628  , -1.17517016, -0.50648495,  0.10339158,  0.87074424,\n",
              "        1.00198276,  0.28825389,  0.36854457,  1.99279015,  0.64494922,\n",
              "       -1.61963173, -1.13977828,  1.3096203 , -1.00943195, -0.72705984,\n",
              "        0.59508124, -0.52911495, -1.13977828, -0.67976922, -0.27394206,\n",
              "       -0.0811164 , -0.17314559,  1.59009814,  0.60332686,  0.17832966,\n",
              "       -0.27373535,  0.7819639 ,  0.76085569,  0.07549111,  0.29162522,\n",
              "       -0.797628  , -1.8594786 ,  0.49683036,  0.7819639 , -0.11782115,\n",
              "        0.11255475,  0.88032182, -1.13977828,  0.69836254,  2.19088314,\n",
              "        2.28236712,  0.59133586,  1.44013609, -0.68009371, -0.40016144,\n",
              "       -0.27394206,  0.03735371,  1.4411823 , -1.14033892,  0.43037027,\n",
              "       -0.24955341, -1.00943195,  1.10135306,  0.17832966,  0.9198355 ,\n",
              "        0.60995769,  0.64494922, -0.52911495, -1.61963173, -0.24955341])"
            ]
          },
          "metadata": {},
          "execution_count": 23
        }
      ]
    },
    {
      "cell_type": "code",
      "metadata": {
        "colab": {
          "base_uri": "https://localhost:8080/",
          "height": 281
        },
        "id": "XB6oho-vGCGT",
        "outputId": "26a78c6a-4d40-44a2-ef86-90bd312e1822"
      },
      "source": [
        "plt.scatter(x_test,y_test,color='red')\n",
        "plt.scatter(x_test,y_pred,color='green')"
      ],
      "execution_count": 24,
      "outputs": [
        {
          "output_type": "execute_result",
          "data": {
            "text/plain": [
              "<matplotlib.collections.PathCollection at 0x7fafce319450>"
            ]
          },
          "metadata": {},
          "execution_count": 24
        },
        {
          "output_type": "display_data",
          "data": {
            "image/png": "[encoded data removed]",
            "text/plain": [
              "<Figure size 432x288 with 1 Axes>"
            ]
          },
          "metadata": {
            "needs_background": "light"
          }
        }
      ]
    },
    {
      "cell_type": "code",
      "metadata": {
        "id": "z_i5t5XwGcg6"
      },
      "source": [
        "from sklearn.metrics import r2_score,mean_absolute_error,mean_squared_error"
      ],
      "execution_count": 25,
      "outputs": []
    },
    {
      "cell_type": "code",
      "metadata": {
        "colab": {
          "base_uri": "https://localhost:8080/"
        },
        "id": "UcXkflmgGpi4",
        "outputId": "1a5ddc6a-98f0-4d2b-ca15-99715644aea6"
      },
      "source": [
        "r2_score(y_test,y_pred)"
      ],
      "execution_count": 26,
      "outputs": [
        {
          "output_type": "execute_result",
          "data": {
            "text/plain": [
              "0.9635507117988493"
            ]
          },
          "metadata": {},
          "execution_count": 26
        }
      ]
    }
  ]
}