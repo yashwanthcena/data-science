{
  "nbformat": 4,
  "nbformat_minor": 0,
  "metadata": {
    "colab": {
      "name": "Untitled13.ipynb",
      "provenance": []
    },
    "kernelspec": {
      "name": "python3",
      "display_name": "Python 3"
    },
    "language_info": {
      "name": "python"
    }
  },
  "cells": [
    {
      "cell_type": "code",
      "metadata": {
        "id": "Y-s4nHYQ0sy2"
      },
      "source": [
        "import numpy as np\n",
        "import pandas as pd\n",
        "import matplotlib.pyplot as plt\n",
        "import seaborn as sns\n",
        "from sklearn.metrics import r2_score,mean_squared_error,mean_absolute_error\n",
        "from sklearn.svm import SVR\n",
        "from sklearn.model_selection import train_test_split"
      ],
      "execution_count": 14,
      "outputs": []
    },
    {
      "cell_type": "code",
      "metadata": {
        "id": "VNXRDETS13V6"
      },
      "source": [
        "df= pd.read_csv('SampleData.csv')"
      ],
      "execution_count": 15,
      "outputs": []
    },
    {
      "cell_type": "code",
      "metadata": {
        "colab": {
          "base_uri": "https://localhost:8080/",
          "height": 206
        },
        "id": "E3YGW8Yv2H_Z",
        "outputId": "14b75548-8f59-4200-aef1-4ff3b265a91d"
      },
      "source": [
        "df.head()"
      ],
      "execution_count": 16,
      "outputs": [
        {
          "output_type": "execute_result",
          "data": {
            "text/html": [
              "<div>\n",
              "<style scoped>\n",
              "    .dataframe tbody tr th:only-of-type {\n",
              "        vertical-align: middle;\n",
              "    }\n",
              "\n",
              "    .dataframe tbody tr th {\n",
              "        vertical-align: top;\n",
              "    }\n",
              "\n",
              "    .dataframe thead th {\n",
              "        text-align: right;\n",
              "    }\n",
              "</style>\n",
              "<table border=\"1\" class=\"dataframe\">\n",
              "  <thead>\n",
              "    <tr style=\"text-align: right;\">\n",
              "      <th></th>\n",
              "      <th>Hours of Study</th>\n",
              "      <th>Marks</th>\n",
              "    </tr>\n",
              "  </thead>\n",
              "  <tbody>\n",
              "    <tr>\n",
              "      <th>0</th>\n",
              "      <td>32.502345</td>\n",
              "      <td>31.707006</td>\n",
              "    </tr>\n",
              "    <tr>\n",
              "      <th>1</th>\n",
              "      <td>53.426804</td>\n",
              "      <td>68.777596</td>\n",
              "    </tr>\n",
              "    <tr>\n",
              "      <th>2</th>\n",
              "      <td>61.530358</td>\n",
              "      <td>62.562382</td>\n",
              "    </tr>\n",
              "    <tr>\n",
              "      <th>3</th>\n",
              "      <td>47.475640</td>\n",
              "      <td>71.546632</td>\n",
              "    </tr>\n",
              "    <tr>\n",
              "      <th>4</th>\n",
              "      <td>59.813208</td>\n",
              "      <td>87.230925</td>\n",
              "    </tr>\n",
              "  </tbody>\n",
              "</table>\n",
              "</div>"
            ],
            "text/plain": [
              "   Hours of Study      Marks\n",
              "0       32.502345  31.707006\n",
              "1       53.426804  68.777596\n",
              "2       61.530358  62.562382\n",
              "3       47.475640  71.546632\n",
              "4       59.813208  87.230925"
            ]
          },
          "metadata": {},
          "execution_count": 16
        }
      ]
    },
    {
      "cell_type": "code",
      "metadata": {
        "colab": {
          "base_uri": "https://localhost:8080/",
          "height": 300
        },
        "id": "qp3pKl6h3Awk",
        "outputId": "e84ddcc3-b10c-43ab-a336-1620d461a342"
      },
      "source": [
        "df.describe()"
      ],
      "execution_count": 17,
      "outputs": [
        {
          "output_type": "execute_result",
          "data": {
            "text/html": [
              "<div>\n",
              "<style scoped>\n",
              "    .dataframe tbody tr th:only-of-type {\n",
              "        vertical-align: middle;\n",
              "    }\n",
              "\n",
              "    .dataframe tbody tr th {\n",
              "        vertical-align: top;\n",
              "    }\n",
              "\n",
              "    .dataframe thead th {\n",
              "        text-align: right;\n",
              "    }\n",
              "</style>\n",
              "<table border=\"1\" class=\"dataframe\">\n",
              "  <thead>\n",
              "    <tr style=\"text-align: right;\">\n",
              "      <th></th>\n",
              "      <th>Hours of Study</th>\n",
              "      <th>Marks</th>\n",
              "    </tr>\n",
              "  </thead>\n",
              "  <tbody>\n",
              "    <tr>\n",
              "      <th>count</th>\n",
              "      <td>100.000000</td>\n",
              "      <td>100.000000</td>\n",
              "    </tr>\n",
              "    <tr>\n",
              "      <th>mean</th>\n",
              "      <td>48.958341</td>\n",
              "      <td>72.035051</td>\n",
              "    </tr>\n",
              "    <tr>\n",
              "      <th>std</th>\n",
              "      <td>9.746379</td>\n",
              "      <td>15.200087</td>\n",
              "    </tr>\n",
              "    <tr>\n",
              "      <th>min</th>\n",
              "      <td>25.128485</td>\n",
              "      <td>31.707006</td>\n",
              "    </tr>\n",
              "    <tr>\n",
              "      <th>25%</th>\n",
              "      <td>41.526164</td>\n",
              "      <td>60.788586</td>\n",
              "    </tr>\n",
              "    <tr>\n",
              "      <th>50%</th>\n",
              "      <td>49.634970</td>\n",
              "      <td>72.179542</td>\n",
              "    </tr>\n",
              "    <tr>\n",
              "      <th>75%</th>\n",
              "      <td>56.762631</td>\n",
              "      <td>83.215080</td>\n",
              "    </tr>\n",
              "    <tr>\n",
              "      <th>max</th>\n",
              "      <td>70.346076</td>\n",
              "      <td>99.051415</td>\n",
              "    </tr>\n",
              "  </tbody>\n",
              "</table>\n",
              "</div>"
            ],
            "text/plain": [
              "       Hours of Study       Marks\n",
              "count      100.000000  100.000000\n",
              "mean        48.958341   72.035051\n",
              "std          9.746379   15.200087\n",
              "min         25.128485   31.707006\n",
              "25%         41.526164   60.788586\n",
              "50%         49.634970   72.179542\n",
              "75%         56.762631   83.215080\n",
              "max         70.346076   99.051415"
            ]
          },
          "metadata": {},
          "execution_count": 17
        }
      ]
    },
    {
      "cell_type": "code",
      "metadata": {
        "id": "oQvyDhvf3Q4I"
      },
      "source": [
        "df.rename(columns={'Hours of Study':'Hours','Marks':'Marks'},inplace=True)"
      ],
      "execution_count": 18,
      "outputs": []
    },
    {
      "cell_type": "code",
      "metadata": {
        "colab": {
          "base_uri": "https://localhost:8080/",
          "height": 265
        },
        "id": "fOtpO4_34Kwe",
        "outputId": "18b42ef0-e6cd-49e6-ee2d-fd53891ab3fc"
      },
      "source": [
        "plt.scatter(df.Hours,df.Marks)\n",
        "plt.show()"
      ],
      "execution_count": 19,
      "outputs": [
        {
          "output_type": "display_data",
          "data": {
            "image/png": "[encoded data removed]",
            "text/plain": [
              "<Figure size 432x288 with 1 Axes>"
            ]
          },
          "metadata": {
            "needs_background": "light"
          }
        }
      ]
    },
    {
      "cell_type": "code",
      "metadata": {
        "id": "I5XKh0o0IThF"
      },
      "source": [
        "from sklearn.preprocessing import StandardScaler"
      ],
      "execution_count": 20,
      "outputs": []
    },
    {
      "cell_type": "code",
      "metadata": {
        "id": "rwutWzOkNJbS"
      },
      "source": [
        "y = df.iloc[:,-1].values\n",
        "x=df.iloc[:,:-1].values"
      ],
      "execution_count": 24,
      "outputs": []
    },
    {
      "cell_type": "code",
      "metadata": {
        "colab": {
          "base_uri": "https://localhost:8080/"
        },
        "id": "XelRySYqmZAK",
        "outputId": "5634ca93-0b55-4bff-f2c0-42520f79f8b1"
      },
      "source": [
        "y.reshape(-1,1)"
      ],
      "execution_count": 25,
      "outputs": [
        {
          "output_type": "execute_result",
          "data": {
            "text/plain": [
              "array([[31.70700585],\n",
              "       [68.77759598],\n",
              "       [62.5623823 ],\n",
              "       [71.54663223],\n",
              "       [87.23092513],\n",
              "       [78.21151827],\n",
              "       [79.64197305],\n",
              "       [59.17148932],\n",
              "       [75.3312423 ],\n",
              "       [71.30087989],\n",
              "       [55.16567715],\n",
              "       [82.47884676],\n",
              "       [62.00892325],\n",
              "       [75.39287043],\n",
              "       [81.43619216],\n",
              "       [60.72360244],\n",
              "       [82.89250373],\n",
              "       [97.37989686],\n",
              "       [48.84715332],\n",
              "       [56.87721319],\n",
              "       [83.87856466],\n",
              "       [98.5912173 ],\n",
              "       [57.25181946],\n",
              "       [51.39174408],\n",
              "       [75.38065167],\n",
              "       [74.76556403],\n",
              "       [95.45505292],\n",
              "       [95.22936602],\n",
              "       [79.05240617],\n",
              "       [83.43207142],\n",
              "       [63.35879032],\n",
              "       [41.4128853 ],\n",
              "       [76.61734128],\n",
              "       [96.76956643],\n",
              "       [74.08413012],\n",
              "       [66.58814441],\n",
              "       [77.76848242],\n",
              "       [50.71958891],\n",
              "       [62.12457082],\n",
              "       [60.81024665],\n",
              "       [52.68298337],\n",
              "       [58.56982472],\n",
              "       [82.90598149],\n",
              "       [61.4247098 ],\n",
              "       [95.2441528 ],\n",
              "       [45.57058882],\n",
              "       [54.0840548 ],\n",
              "       [87.99445276],\n",
              "       [52.72549438],\n",
              "       [93.57611869],\n",
              "       [80.16627545],\n",
              "       [65.10171157],\n",
              "       [65.56230126],\n",
              "       [65.28088692],\n",
              "       [73.43464155],\n",
              "       [71.13972786],\n",
              "       [79.10282968],\n",
              "       [86.52053844],\n",
              "       [84.74269781],\n",
              "       [59.35885025],\n",
              "       [61.68403752],\n",
              "       [69.84760416],\n",
              "       [86.09829121],\n",
              "       [59.10883927],\n",
              "       [69.89968164],\n",
              "       [44.86249071],\n",
              "       [85.49806778],\n",
              "       [95.53668685],\n",
              "       [70.25193442],\n",
              "       [52.72173496],\n",
              "       [50.39267014],\n",
              "       [63.64239878],\n",
              "       [72.24725107],\n",
              "       [57.81251298],\n",
              "       [94.25710159],\n",
              "       [86.64202032],\n",
              "       [91.486778  ],\n",
              "       [55.23166089],\n",
              "       [79.55043668],\n",
              "       [44.84712424],\n",
              "       [80.20752314],\n",
              "       [83.14274979],\n",
              "       [55.72348926],\n",
              "       [77.63418251],\n",
              "       [99.05141484],\n",
              "       [79.12064627],\n",
              "       [69.58889785],\n",
              "       [69.51050331],\n",
              "       [73.68756432],\n",
              "       [61.36690454],\n",
              "       [67.17065577],\n",
              "       [85.66820315],\n",
              "       [94.85387123],\n",
              "       [90.12357207],\n",
              "       [97.91982104],\n",
              "       [81.53699078],\n",
              "       [72.11183247],\n",
              "       [85.23200734],\n",
              "       [66.22495789],\n",
              "       [53.45439421]])"
            ]
          },
          "metadata": {},
          "execution_count": 25
        }
      ]
    },
    {
      "cell_type": "code",
      "metadata": {
        "id": "PrLiIE8VlyqZ"
      },
      "source": [
        "standscale= StandardScaler()"
      ],
      "execution_count": 26,
      "outputs": []
    },
    {
      "cell_type": "code",
      "metadata": {
        "id": "zCEo63yTl3qd"
      },
      "source": [
        "x= standscale.fit_transform(x.reshape(-1,1))\n",
        "y= standscale.fit_transform(y.reshape(-1,1))"
      ],
      "execution_count": 27,
      "outputs": []
    },
    {
      "cell_type": "code",
      "metadata": {
        "id": "X5Q5r6msnol6"
      },
      "source": [
        "x_train,x_test,y_train,y_test=train_test_split(x,y,test_size=0.2,random_state=10)"
      ],
      "execution_count": 28,
      "outputs": []
    },
    {
      "cell_type": "code",
      "metadata": {
        "colab": {
          "base_uri": "https://localhost:8080/"
        },
        "id": "eo52MXeqn3Nl",
        "outputId": "a61626dc-379e-4d29-d2f1-37b018bab187"
      },
      "source": [
        "x_train.shape"
      ],
      "execution_count": 29,
      "outputs": [
        {
          "output_type": "execute_result",
          "data": {
            "text/plain": [
              "(80, 1)"
            ]
          },
          "metadata": {},
          "execution_count": 29
        }
      ]
    },
    {
      "cell_type": "code",
      "metadata": {
        "id": "E9Jwp--XpajI"
      },
      "source": [
        "model= SVR(kernel='rbf')"
      ],
      "execution_count": 31,
      "outputs": []
    },
    {
      "cell_type": "code",
      "metadata": {
        "colab": {
          "base_uri": "https://localhost:8080/"
        },
        "id": "H8tWqk5ZpiIq",
        "outputId": "fb19f6e8-eac6-4ded-e0b9-94a526706690"
      },
      "source": [
        "model.fit(x_train,y_train)"
      ],
      "execution_count": 32,
      "outputs": [
        {
          "output_type": "stream",
          "name": "stderr",
          "text": [
            "/usr/local/lib/python3.7/dist-packages/sklearn/utils/validation.py:760: DataConversionWarning: A column-vector y was passed when a 1d array was expected. Please change the shape of y to (n_samples, ), for example using ravel().\n",
            "  y = column_or_1d(y, warn=True)\n"
          ]
        },
        {
          "output_type": "execute_result",
          "data": {
            "text/plain": [
              "SVR(C=1.0, cache_size=200, coef0=0.0, degree=3, epsilon=0.1, gamma='scale',\n",
              "    kernel='rbf', max_iter=-1, shrinking=True, tol=0.001, verbose=False)"
            ]
          },
          "metadata": {},
          "execution_count": 32
        }
      ]
    },
    {
      "cell_type": "code",
      "metadata": {
        "id": "_4BD5BWMxfCN"
      },
      "source": [
        "y_pred=model.predict(x_test)"
      ],
      "execution_count": 33,
      "outputs": []
    },
    {
      "cell_type": "code",
      "metadata": {
        "colab": {
          "base_uri": "https://localhost:8080/"
        },
        "id": "4RWRlVkPxnSM",
        "outputId": "4d85ccc6-8f97-40d1-ca5e-b8ce8504ac8a"
      },
      "source": [
        "y_pred"
      ],
      "execution_count": 34,
      "outputs": [
        {
          "output_type": "execute_result",
          "data": {
            "text/plain": [
              "array([-0.76947139,  0.62495329, -0.36605346, -1.26283815,  0.57381597,\n",
              "       -0.1185472 , -0.75664008, -0.40417142, -0.99623181,  0.95262628,\n",
              "        1.07387222,  0.35030893, -0.56328734, -0.52093818,  0.07543078,\n",
              "        1.22551728,  1.33758452,  0.67596748, -0.56967027, -0.64786557])"
            ]
          },
          "metadata": {},
          "execution_count": 34
        }
      ]
    },
    {
      "cell_type": "code",
      "metadata": {
        "id": "iPFcurxPyHWr"
      },
      "source": [
        "y_test=standscale.inverse_transform(y_test)"
      ],
      "execution_count": 35,
      "outputs": []
    },
    {
      "cell_type": "code",
      "metadata": {
        "colab": {
          "base_uri": "https://localhost:8080/"
        },
        "id": "ccbMCuj4yRaT",
        "outputId": "06453257-8065-48f0-b8f3-d258a42e04cd"
      },
      "source": [
        "y_test"
      ],
      "execution_count": 36,
      "outputs": [
        {
          "output_type": "execute_result",
          "data": {
            "text/plain": [
              "array([[56.87721319],\n",
              "       [81.43619216],\n",
              "       [61.4247098 ],\n",
              "       [50.71958891],\n",
              "       [85.49806778],\n",
              "       [71.54663223],\n",
              "       [44.84712424],\n",
              "       [58.56982472],\n",
              "       [62.12457082],\n",
              "       [70.25193442],\n",
              "       [62.5623823 ],\n",
              "       [68.77759598],\n",
              "       [61.68403752],\n",
              "       [65.28088692],\n",
              "       [81.53699078],\n",
              "       [94.25710159],\n",
              "       [94.85387123],\n",
              "       [95.45505292],\n",
              "       [59.35885025],\n",
              "       [54.0840548 ]])"
            ]
          },
          "metadata": {},
          "execution_count": 36
        }
      ]
    },
    {
      "cell_type": "code",
      "metadata": {
        "colab": {
          "base_uri": "https://localhost:8080/"
        },
        "id": "sboCoA1Iya3C",
        "outputId": "6fd632e2-8571-4aca-863e-9527b65dffed"
      },
      "source": [
        "y_pred=standscale.inverse_transform(y_pred)\n",
        "y_pred"
      ],
      "execution_count": 37,
      "outputs": [
        {
          "output_type": "execute_result",
          "data": {
            "text/plain": [
              "array([60.39764577, 81.48677868, 66.49889641, 52.93601862, 80.71338315,\n",
              "       70.24215505, 60.59170512, 65.92240434, 56.96814488, 86.44247075,\n",
              "       88.27618157, 77.33308614, 63.51595177, 64.15643611, 73.17585776,\n",
              "       90.56964555, 92.26453877, 82.25831189, 63.41941707, 62.23679956])"
            ]
          },
          "metadata": {},
          "execution_count": 37
        }
      ]
    },
    {
      "cell_type": "code",
      "metadata": {
        "colab": {
          "base_uri": "https://localhost:8080/"
        },
        "id": "NeKUErP6ytG5",
        "outputId": "ed7f7454-260d-4245-893c-f1bbe206473e"
      },
      "source": [
        "\n",
        "standscale.inverse_transform(model.predict([[10]]))"
      ],
      "execution_count": 40,
      "outputs": [
        {
          "output_type": "execute_result",
          "data": {
            "text/plain": [
              "array([71.50346437])"
            ]
          },
          "metadata": {},
          "execution_count": 40
        }
      ]
    },
    {
      "cell_type": "code",
      "metadata": {
        "colab": {
          "base_uri": "https://localhost:8080/"
        },
        "id": "hwMJ7z7nzAaB",
        "outputId": "953f95dc-8362-4dd2-d99d-f4df046cf06b"
      },
      "source": [
        "standscale.inverse_transform(model.predict([[2]]))"
      ],
      "execution_count": 41,
      "outputs": [
        {
          "output_type": "execute_result",
          "data": {
            "text/plain": [
              "array([92.55111091])"
            ]
          },
          "metadata": {},
          "execution_count": 41
        }
      ]
    },
    {
      "cell_type": "code",
      "metadata": {
        "colab": {
          "base_uri": "https://localhost:8080/"
        },
        "id": "YPs7vr3ezE_V",
        "outputId": "0fcea17f-ed21-4981-e052-57675fc1ffef"
      },
      "source": [
        "standscale.inverse_transform(model.predict([[15]]))"
      ],
      "execution_count": 43,
      "outputs": [
        {
          "output_type": "execute_result",
          "data": {
            "text/plain": [
              "array([71.50346437])"
            ]
          },
          "metadata": {},
          "execution_count": 43
        }
      ]
    },
    {
      "cell_type": "code",
      "metadata": {
        "colab": {
          "base_uri": "https://localhost:8080/"
        },
        "id": "Su615SXGzh3F",
        "outputId": "18bce54e-09d0-407a-a5b4-cdd06f629339"
      },
      "source": [
        "r2_score(y_test,y_pred)"
      ],
      "execution_count": 44,
      "outputs": [
        {
          "output_type": "execute_result",
          "data": {
            "text/plain": [
              "0.5943071038285546"
            ]
          },
          "metadata": {},
          "execution_count": 44
        }
      ]
    },
    {
      "cell_type": "code",
      "metadata": {
        "colab": {
          "base_uri": "https://localhost:8080/"
        },
        "id": "rM4ix1yjznQ-",
        "outputId": "a1138fda-3138-4916-a937-683a2d2e5dc9"
      },
      "source": [
        "mean_squared_error(y_test,y_pred)"
      ],
      "execution_count": 45,
      "outputs": [
        {
          "output_type": "execute_result",
          "data": {
            "text/plain": [
              "87.23306900235278"
            ]
          },
          "metadata": {},
          "execution_count": 45
        }
      ]
    },
    {
      "cell_type": "code",
      "metadata": {
        "colab": {
          "base_uri": "https://localhost:8080/"
        },
        "id": "5_dhsoY_ztNJ",
        "outputId": "994ad575-ad8f-49d1-beaa-23ce5fa2ca81"
      },
      "source": [
        "mean_absolute_error(y_test,y_pred)"
      ],
      "execution_count": 46,
      "outputs": [
        {
          "output_type": "execute_result",
          "data": {
            "text/plain": [
              "6.933427431006026"
            ]
          },
          "metadata": {},
          "execution_count": 46
        }
      ]
    }
  ]
}